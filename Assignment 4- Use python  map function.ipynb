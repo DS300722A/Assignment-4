{
 "cells": [
  {
   "cell_type": "code",
   "execution_count": null,
   "id": "5cb44d91",
   "metadata": {},
   "outputs": [],
   "source": [
    "Write a Python program to triple all numbers of a given list of integers. Use Python map.\n",
    "\n",
    "\n",
    "\n",
    "sample list: [1, 2, 3, 4, 5, 6, 7]\n",
    "\n",
    "\n",
    "\n",
    "Triple of list numbers:\n",
    "\n",
    "[3, 6, 9, 12, 15, 18, 21]\n",
    "\n"
   ]
  },
  {
   "cell_type": "code",
   "execution_count": 1,
   "id": "88781a02",
   "metadata": {},
   "outputs": [
    {
     "name": "stdout",
     "output_type": "stream",
     "text": [
      "The triple of  all numbers of a given list of integers is :  [3, 6, 9, 12, 15, 18, 21]\n"
     ]
    }
   ],
   "source": [
    "l1=[1, 2, 3, 4, 5, 6, 7]\n",
    "x=list(map(lambda x:x*3,l1))\n",
    "print(\"The triple of  all numbers of a given list of integers is : \", x)"
   ]
  },
  {
   "cell_type": "code",
   "execution_count": null,
   "id": "fc7b42e2",
   "metadata": {},
   "outputs": [],
   "source": []
  }
 ],
 "metadata": {
  "kernelspec": {
   "display_name": "Python 3 (ipykernel)",
   "language": "python",
   "name": "python3"
  },
  "language_info": {
   "codemirror_mode": {
    "name": "ipython",
    "version": 3
   },
   "file_extension": ".py",
   "mimetype": "text/x-python",
   "name": "python",
   "nbconvert_exporter": "python",
   "pygments_lexer": "ipython3",
   "version": "3.9.12"
  }
 },
 "nbformat": 4,
 "nbformat_minor": 5
}
